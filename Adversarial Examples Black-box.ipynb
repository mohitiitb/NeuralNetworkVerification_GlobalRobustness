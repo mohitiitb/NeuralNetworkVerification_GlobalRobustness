{
 "cells": [
  {
   "cell_type": "markdown",
   "metadata": {},
   "source": [
    "## Finding realistic adversarial examples: black-box approach"
   ]
  },
  {
   "cell_type": "markdown",
   "metadata": {},
   "source": [
    "This script takes as input a classifier and a generative model and looks for 4 realistic adversarial examples.\n",
    "It is a black-box approach: the inner structure of the networks (weights in particular) are not used."
   ]
  },
  {
   "cell_type": "code",
   "execution_count": 5,
   "metadata": {},
   "outputs": [],
   "source": [
    "import math\n",
    "import matplotlib.pyplot as plt \n",
    "import numpy as np \n",
    "import tensorflow as tf\n",
    "import time\n",
    "from random import randint\n",
    "%matplotlib inline\n",
    "\n",
    "digit_origin = 8\n",
    "digit_target = 3\n",
    "\n",
    "classifier = tf.keras.models.load_model('Models/classifier_capacity1_simple.model', compile=False)\n",
    "gan = tf.keras.models.load_model('Models/gan_digit8_rich.h5')"
   ]
  },
  {
   "cell_type": "code",
   "execution_count": 6,
   "metadata": {},
   "outputs": [
    {
     "name": "stdout",
     "output_type": "stream",
     "text": [
      "Confidence in 3 is 0.851503\n",
      "time: 86.854898\n"
     ]
    },
    {
     "data": {
      "image/png": "[encoded data removed]",
      "text/plain": [
       "<Figure size 216x216 with 1 Axes>"
      ]
     },
     "metadata": {
      "needs_background": "light"
     },
     "output_type": "display_data"
    }
   ],
   "source": [
    "noise_change = 0.2\n",
    "\n",
    "fig = plt.figure(figsize=(3, 3))\n",
    "\n",
    "found = False\n",
    "\n",
    "start = time.time()\n",
    "\n",
    "while(not found):\n",
    "    noise = np.random.normal(0,1,size=[1,10])\n",
    "    generated_image = gan.predict(noise)\n",
    "    result_origin = classifier.predict(generated_image[0].reshape(1,28,28,1))[0][digit_origin]\n",
    "    if(result_origin > .9):\n",
    "        result_target = classifier.predict(generated_image[0].reshape(1,28,28,1))[0][digit_target]\n",
    "\n",
    "        for j in range(10):\n",
    "            best_new_noise = noise\n",
    "            best_score = result_target\n",
    "            for k in range(5):\n",
    "                new_noise = noise\n",
    "                new_noise += np.random.normal(0,noise_change,size=[1,10]);\n",
    "                new_noise = np.clip(new_noise,-1,1)\n",
    "                new_generated_image = gan.predict(new_noise)\n",
    "                new_result_target = classifier.predict(new_generated_image[0].reshape(1,28,28,1))[0][digit_target]\n",
    "                if(new_result_target > result_target):\n",
    "                    best_new_noise = new_noise\n",
    "                    best_score = new_result_target\n",
    "            noise = best_new_noise\n",
    "            result_target = best_score\n",
    "\n",
    "        if(result_target > .5):\n",
    "            print(\"Confidence in %d is %f\" % (digit_target,result_target))\n",
    "            plt.imshow(generated_image.reshape(1,28,28)[0],cmap='gray')\n",
    "            plt.axis(\"off\")\n",
    "            found = True\n",
    "\n",
    "end = time.time()\n",
    "print(\"time: %f s\" % (end - start))\n",
    "\n",
    "plt.savefig('adversarial_examples_black_box.png')\n",
    "plt.show()"
   ]
  },
  {
   "cell_type": "code",
   "execution_count": null,
   "metadata": {},
   "outputs": [],
   "source": []
  }
 ],
 "metadata": {
  "kernelspec": {
   "display_name": "Python 3",
   "language": "python",
   "name": "python3"
  },
  "language_info": {
   "codemirror_mode": {
    "name": "ipython",
    "version": 3
   },
   "file_extension": ".py",
   "mimetype": "text/x-python",
   "name": "python",
   "nbconvert_exporter": "python",
   "pygments_lexer": "ipython3",
   "version": "3.6.8"
  }
 },
 "nbformat": 4,
 "nbformat_minor": 2
}
