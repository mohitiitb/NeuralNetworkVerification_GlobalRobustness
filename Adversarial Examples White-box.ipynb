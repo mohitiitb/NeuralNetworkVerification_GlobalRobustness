{
 "cells": [
  {
   "cell_type": "markdown",
   "metadata": {},
   "source": [
    "## Finding realistic adversarial examples: white-box approach"
   ]
  },
  {
   "cell_type": "markdown",
   "metadata": {},
   "source": [
    "This script takes as input a classifier and a generative model and looks for 4 realistic adversarial examples.\n",
    "It is a white-box approach: the inner structure of the networks (weights in particular) is used to compute a gradient."
   ]
  },
  {
   "cell_type": "code",
   "execution_count": 5,
   "metadata": {},
   "outputs": [],
   "source": [
    "import tensorflow as tf \n",
    "import numpy as np \n",
    "from tensorflow.keras import backend as K\n",
    "import matplotlib.pyplot as plt\n",
    "%matplotlib inline\n",
    "\n",
    "digit_origin = 8\n",
    "digit_target = 3\n",
    "\n",
    "classifier = tf.keras.models.load_model('/Models/classifier_capacity1_simple.model', compile=False)\n",
    "gan = tf.keras.models.load_model('/Models/gan_digit8_rich.h5')"
   ]
  },
  {
   "cell_type": "code",
   "execution_count": 6,
   "metadata": {},
   "outputs": [],
   "source": [
    "classifier.trainable = False\n",
    "combined_networkInput = tf.keras.layers.Input(shape=(10,))\n",
    "x = gan(combined_networkInput)\n",
    "new_shape = tf.convert_to_tensor([1,28,28,1],dtype=tf.int32)\n",
    "x = tf.reshape(x,new_shape,name=None)\n",
    "combined_networkOutput = classifier(x)\n",
    "combined_network = tf.keras.models.Model(inputs=combined_networkInput, outputs=combined_networkOutput)\n",
    "combined_network.compile(loss='binary_crossentropy', optimizer = 'adam')"
   ]
  },
  {
   "cell_type": "code",
   "execution_count": null,
   "metadata": {},
   "outputs": [],
   "source": [
    "fig = plt.figure(figsize=(2, 2))\n",
    "\n",
    "a = 0.01\n",
    "\n",
    "loss_object = tf.keras.losses.CategoricalCrossentropy()\n",
    "\n",
    "def create_adv_pattern(noise,input_label):\n",
    "    prediction = combined_network(noise)\n",
    "    loss = loss_object(input_label,prediction)\n",
    "    grad = tf.gradients(loss,noise)[0]\n",
    "    signed_grad = tf.sign(grad)\n",
    "    return signed_grad\n",
    "\n",
    "found = False\n",
    "\n",
    "start = time.time()\n",
    "\n",
    "while(not found):\n",
    "    noise = np.random.normal(0,1,size=[1,10])\n",
    "    noise = tf.cast(noise,tf.float32)\n",
    "\n",
    "    for j in range(40):\n",
    "        pertubations = create_adv_pattern(noise,input_label)\n",
    "        noise += a*pertubations\n",
    "    result3 = combined_network(noise)\n",
    "    result3 = K.eval(result3)[0][1]\n",
    "    if(result3 > 0.9):\n",
    "        noise = K.eval(noise)\n",
    "        generated_image = gan8.predict(noise)\n",
    "        print(\"Confidence in 3 is %f\" % (count+1,result3))\n",
    "        fig.add_subplot(2,2,count+1)\n",
    "        plt.imshow(generated_image.reshape(1,28,28)[0],cmap='gray')\n",
    "        plt.axis(\"off\")\n",
    "        found = True\n",
    "        \n",
    "end = time.time()\n",
    "print(\"time: %f\" % (end - start))\n",
    "\n",
    "plt.savefig('adversarial_examples_white_box.png')\n",
    "plt.show()"
   ]
  },
  {
   "cell_type": "code",
   "execution_count": null,
   "metadata": {},
   "outputs": [],
   "source": []
  }
 ],
 "metadata": {
  "kernelspec": {
   "display_name": "Python 3",
   "language": "python",
   "name": "python3"
  },
  "language_info": {
   "codemirror_mode": {
    "name": "ipython",
    "version": 3
   },
   "file_extension": ".py",
   "mimetype": "text/x-python",
   "name": "python",
   "nbconvert_exporter": "python",
   "pygments_lexer": "ipython3",
   "version": "3.6.8"
  }
 },
 "nbformat": 4,
 "nbformat_minor": 2
}
