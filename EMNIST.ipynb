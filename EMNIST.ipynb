{
 "cells": [
  {
   "cell_type": "markdown",
   "metadata": {},
   "source": [
    "## Dependence on the generative model: disjoint training sets"
   ]
  },
  {
   "cell_type": "markdown",
   "metadata": {},
   "source": [
    "This script compares the global correctness obtained using two generative models trained in the same way but using two disjoint training set."
   ]
  },
  {
   "cell_type": "code",
   "execution_count": 11,
   "metadata": {},
   "outputs": [],
   "source": [
    "import sys\n",
    "import tensorflow as tf \n",
    "import numpy as np \n",
    "\n",
    "digit = 8\n",
    "number_samples = 5000\n",
    "\n",
    "classifier = tf.keras.models.load_model('Models/classifier_capacity1_simple.model', compile=False)\n",
    "gan1 = tf.keras.models.load_model('Models/gan_digit8_EMNIST1.h5')\n",
    "gan2 = tf.keras.models.load_model('Models/gan_digit8_EMNIST2.h5')"
   ]
  },
  {
   "cell_type": "code",
   "execution_count": 12,
   "metadata": {},
   "outputs": [],
   "source": [
    "def softmax(x):\n",
    "    e_x = np.exp(x - np.max(x))\n",
    "    return e_x / e_x.sum()"
   ]
  },
  {
   "cell_type": "code",
   "execution_count": 13,
   "metadata": {},
   "outputs": [
    {
     "name": "stdout",
     "output_type": "stream",
     "text": [
      "Global correctness against the first GAN: 94.40 %\n",
      "Global correctness against the second GAN: 93.70 %\n"
     ]
    }
   ],
   "source": [
    "count1 = 0\n",
    "count2 = 0\n",
    "\n",
    "for i in range(number_samples):\n",
    "    noise = np.random.normal(0,1,size=[1,10])\n",
    "\n",
    "    generated_image1 = gan1.predict(noise)\n",
    "    generated_image1 = generated_image1.reshape(1,28,28,1)\n",
    "    output1 = classifier.predict(generated_image1)[0]\n",
    "    proba1 = softmax(output1)\n",
    "    prediction1 = np.argmax(proba1)\n",
    "    if prediction1 != digit:\n",
    "        count1 += 1\n",
    "\n",
    "    generated_image2 = gan2.predict(noise)\n",
    "    generated_image2 = generated_image2.reshape(1,28,28,1)\n",
    "    output2 = classifier.predict(generated_image2)[0]\n",
    "    proba2 = softmax(output2)\n",
    "    prediction2 = np.argmax(proba2)\n",
    "    if prediction2 != digit:\n",
    "        count2 += 1\n",
    "\n",
    "print(\"Global correctness against the first GAN: %.2f %%\" % (100.0 * ((number_samples - count1) / number_samples)))\n",
    "print(\"Global correctness against the second GAN: %.2f %%\" % (100.0 * ((number_samples - count2) / number_samples)))"
   ]
  },
  {
   "cell_type": "code",
   "execution_count": null,
   "metadata": {},
   "outputs": [],
   "source": []
  }
 ],
 "metadata": {
  "kernelspec": {
   "display_name": "Python 3",
   "language": "python",
   "name": "python3"
  },
  "language_info": {
   "codemirror_mode": {
    "name": "ipython",
    "version": 3
   },
   "file_extension": ".py",
   "mimetype": "text/x-python",
   "name": "python",
   "nbconvert_exporter": "python",
   "pygments_lexer": "ipython3",
   "version": "3.6.8"
  }
 },
 "nbformat": 4,
 "nbformat_minor": 2
}
